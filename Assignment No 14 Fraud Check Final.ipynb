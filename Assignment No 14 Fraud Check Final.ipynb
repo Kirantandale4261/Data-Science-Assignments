{
 "cells": [
  {
   "cell_type": "code",
   "execution_count": 1,
   "id": "a32f3e98",
   "metadata": {},
   "outputs": [],
   "source": [
    "import pandas as pd \n",
    "import warnings\n",
    "warnings.filterwarnings('ignore')"
   ]
  },
  {
   "cell_type": "code",
   "execution_count": 2,
   "id": "96ab70c4",
   "metadata": {},
   "outputs": [
    {
     "data": {
      "text/html": [
       "<div>\n",
       "<style scoped>\n",
       "    .dataframe tbody tr th:only-of-type {\n",
       "        vertical-align: middle;\n",
       "    }\n",
       "\n",
       "    .dataframe tbody tr th {\n",
       "        vertical-align: top;\n",
       "    }\n",
       "\n",
       "    .dataframe thead th {\n",
       "        text-align: right;\n",
       "    }\n",
       "</style>\n",
       "<table border=\"1\" class=\"dataframe\">\n",
       "  <thead>\n",
       "    <tr style=\"text-align: right;\">\n",
       "      <th></th>\n",
       "      <th>Undergrad</th>\n",
       "      <th>Marital.Status</th>\n",
       "      <th>Taxable.Income</th>\n",
       "      <th>City.Population</th>\n",
       "      <th>Work.Experience</th>\n",
       "      <th>Urban</th>\n",
       "    </tr>\n",
       "  </thead>\n",
       "  <tbody>\n",
       "    <tr>\n",
       "      <th>0</th>\n",
       "      <td>NO</td>\n",
       "      <td>Single</td>\n",
       "      <td>68833</td>\n",
       "      <td>50047</td>\n",
       "      <td>10</td>\n",
       "      <td>YES</td>\n",
       "    </tr>\n",
       "    <tr>\n",
       "      <th>1</th>\n",
       "      <td>YES</td>\n",
       "      <td>Divorced</td>\n",
       "      <td>33700</td>\n",
       "      <td>134075</td>\n",
       "      <td>18</td>\n",
       "      <td>YES</td>\n",
       "    </tr>\n",
       "    <tr>\n",
       "      <th>2</th>\n",
       "      <td>NO</td>\n",
       "      <td>Married</td>\n",
       "      <td>36925</td>\n",
       "      <td>160205</td>\n",
       "      <td>30</td>\n",
       "      <td>YES</td>\n",
       "    </tr>\n",
       "    <tr>\n",
       "      <th>3</th>\n",
       "      <td>YES</td>\n",
       "      <td>Single</td>\n",
       "      <td>50190</td>\n",
       "      <td>193264</td>\n",
       "      <td>15</td>\n",
       "      <td>YES</td>\n",
       "    </tr>\n",
       "    <tr>\n",
       "      <th>4</th>\n",
       "      <td>NO</td>\n",
       "      <td>Married</td>\n",
       "      <td>81002</td>\n",
       "      <td>27533</td>\n",
       "      <td>28</td>\n",
       "      <td>NO</td>\n",
       "    </tr>\n",
       "    <tr>\n",
       "      <th>...</th>\n",
       "      <td>...</td>\n",
       "      <td>...</td>\n",
       "      <td>...</td>\n",
       "      <td>...</td>\n",
       "      <td>...</td>\n",
       "      <td>...</td>\n",
       "    </tr>\n",
       "    <tr>\n",
       "      <th>595</th>\n",
       "      <td>YES</td>\n",
       "      <td>Divorced</td>\n",
       "      <td>76340</td>\n",
       "      <td>39492</td>\n",
       "      <td>7</td>\n",
       "      <td>YES</td>\n",
       "    </tr>\n",
       "    <tr>\n",
       "      <th>596</th>\n",
       "      <td>YES</td>\n",
       "      <td>Divorced</td>\n",
       "      <td>69967</td>\n",
       "      <td>55369</td>\n",
       "      <td>2</td>\n",
       "      <td>YES</td>\n",
       "    </tr>\n",
       "    <tr>\n",
       "      <th>597</th>\n",
       "      <td>NO</td>\n",
       "      <td>Divorced</td>\n",
       "      <td>47334</td>\n",
       "      <td>154058</td>\n",
       "      <td>0</td>\n",
       "      <td>YES</td>\n",
       "    </tr>\n",
       "    <tr>\n",
       "      <th>598</th>\n",
       "      <td>YES</td>\n",
       "      <td>Married</td>\n",
       "      <td>98592</td>\n",
       "      <td>180083</td>\n",
       "      <td>17</td>\n",
       "      <td>NO</td>\n",
       "    </tr>\n",
       "    <tr>\n",
       "      <th>599</th>\n",
       "      <td>NO</td>\n",
       "      <td>Divorced</td>\n",
       "      <td>96519</td>\n",
       "      <td>158137</td>\n",
       "      <td>16</td>\n",
       "      <td>NO</td>\n",
       "    </tr>\n",
       "  </tbody>\n",
       "</table>\n",
       "<p>600 rows × 6 columns</p>\n",
       "</div>"
      ],
      "text/plain": [
       "    Undergrad Marital.Status  Taxable.Income  City.Population  \\\n",
       "0          NO         Single           68833            50047   \n",
       "1         YES       Divorced           33700           134075   \n",
       "2          NO        Married           36925           160205   \n",
       "3         YES         Single           50190           193264   \n",
       "4          NO        Married           81002            27533   \n",
       "..        ...            ...             ...              ...   \n",
       "595       YES       Divorced           76340            39492   \n",
       "596       YES       Divorced           69967            55369   \n",
       "597        NO       Divorced           47334           154058   \n",
       "598       YES        Married           98592           180083   \n",
       "599        NO       Divorced           96519           158137   \n",
       "\n",
       "     Work.Experience Urban  \n",
       "0                 10   YES  \n",
       "1                 18   YES  \n",
       "2                 30   YES  \n",
       "3                 15   YES  \n",
       "4                 28    NO  \n",
       "..               ...   ...  \n",
       "595                7   YES  \n",
       "596                2   YES  \n",
       "597                0   YES  \n",
       "598               17    NO  \n",
       "599               16    NO  \n",
       "\n",
       "[600 rows x 6 columns]"
      ]
     },
     "execution_count": 2,
     "metadata": {},
     "output_type": "execute_result"
    }
   ],
   "source": [
    "df=pd.read_csv('Fraud_check.csv')\n",
    "df"
   ]
  },
  {
   "cell_type": "code",
   "execution_count": 3,
   "id": "7557e3b3",
   "metadata": {},
   "outputs": [
    {
     "name": "stdout",
     "output_type": "stream",
     "text": [
      "<class 'pandas.core.frame.DataFrame'>\n",
      "RangeIndex: 600 entries, 0 to 599\n",
      "Data columns (total 6 columns):\n",
      " #   Column           Non-Null Count  Dtype \n",
      "---  ------           --------------  ----- \n",
      " 0   Undergrad        600 non-null    object\n",
      " 1   Marital.Status   600 non-null    object\n",
      " 2   Taxable.Income   600 non-null    int64 \n",
      " 3   City.Population  600 non-null    int64 \n",
      " 4   Work.Experience  600 non-null    int64 \n",
      " 5   Urban            600 non-null    object\n",
      "dtypes: int64(3), object(3)\n",
      "memory usage: 28.2+ KB\n"
     ]
    }
   ],
   "source": [
    "df.info()"
   ]
  },
  {
   "cell_type": "code",
   "execution_count": 4,
   "id": "626b0bef",
   "metadata": {},
   "outputs": [
    {
     "data": {
      "text/html": [
       "<div>\n",
       "<style scoped>\n",
       "    .dataframe tbody tr th:only-of-type {\n",
       "        vertical-align: middle;\n",
       "    }\n",
       "\n",
       "    .dataframe tbody tr th {\n",
       "        vertical-align: top;\n",
       "    }\n",
       "\n",
       "    .dataframe thead th {\n",
       "        text-align: right;\n",
       "    }\n",
       "</style>\n",
       "<table border=\"1\" class=\"dataframe\">\n",
       "  <thead>\n",
       "    <tr style=\"text-align: right;\">\n",
       "      <th></th>\n",
       "      <th>Undergrad</th>\n",
       "      <th>Marital_Status</th>\n",
       "      <th>Taxable_Income</th>\n",
       "      <th>City_Population</th>\n",
       "      <th>Work_Experience</th>\n",
       "      <th>Urban</th>\n",
       "    </tr>\n",
       "  </thead>\n",
       "  <tbody>\n",
       "    <tr>\n",
       "      <th>0</th>\n",
       "      <td>NO</td>\n",
       "      <td>Single</td>\n",
       "      <td>68833</td>\n",
       "      <td>50047</td>\n",
       "      <td>10</td>\n",
       "      <td>YES</td>\n",
       "    </tr>\n",
       "    <tr>\n",
       "      <th>1</th>\n",
       "      <td>YES</td>\n",
       "      <td>Divorced</td>\n",
       "      <td>33700</td>\n",
       "      <td>134075</td>\n",
       "      <td>18</td>\n",
       "      <td>YES</td>\n",
       "    </tr>\n",
       "    <tr>\n",
       "      <th>2</th>\n",
       "      <td>NO</td>\n",
       "      <td>Married</td>\n",
       "      <td>36925</td>\n",
       "      <td>160205</td>\n",
       "      <td>30</td>\n",
       "      <td>YES</td>\n",
       "    </tr>\n",
       "    <tr>\n",
       "      <th>3</th>\n",
       "      <td>YES</td>\n",
       "      <td>Single</td>\n",
       "      <td>50190</td>\n",
       "      <td>193264</td>\n",
       "      <td>15</td>\n",
       "      <td>YES</td>\n",
       "    </tr>\n",
       "    <tr>\n",
       "      <th>4</th>\n",
       "      <td>NO</td>\n",
       "      <td>Married</td>\n",
       "      <td>81002</td>\n",
       "      <td>27533</td>\n",
       "      <td>28</td>\n",
       "      <td>NO</td>\n",
       "    </tr>\n",
       "  </tbody>\n",
       "</table>\n",
       "</div>"
      ],
      "text/plain": [
       "  Undergrad Marital_Status  Taxable_Income  City_Population  Work_Experience  \\\n",
       "0        NO         Single           68833            50047               10   \n",
       "1       YES       Divorced           33700           134075               18   \n",
       "2        NO        Married           36925           160205               30   \n",
       "3       YES         Single           50190           193264               15   \n",
       "4        NO        Married           81002            27533               28   \n",
       "\n",
       "  Urban  \n",
       "0   YES  \n",
       "1   YES  \n",
       "2   YES  \n",
       "3   YES  \n",
       "4    NO  "
      ]
     },
     "execution_count": 4,
     "metadata": {},
     "output_type": "execute_result"
    }
   ],
   "source": [
    "df.rename(columns={'Marital.Status':'Marital_Status'\n",
    "                   ,'Taxable.Income':'Taxable_Income',\n",
    "                   'City.Population':'City_Population',\n",
    "                   'Work.Experience':'Work_Experience'},inplace=True)\n",
    "df.head()"
   ]
  },
  {
   "cell_type": "code",
   "execution_count": 5,
   "id": "6e51a3ca",
   "metadata": {},
   "outputs": [],
   "source": [
    "char_col=df.select_dtypes('object').columns"
   ]
  },
  {
   "cell_type": "code",
   "execution_count": 6,
   "id": "ffd86f87",
   "metadata": {},
   "outputs": [],
   "source": [
    "from sklearn.preprocessing import OrdinalEncoder"
   ]
  },
  {
   "cell_type": "code",
   "execution_count": 7,
   "id": "4e0590c2",
   "metadata": {},
   "outputs": [],
   "source": [
    "oe=OrdinalEncoder()"
   ]
  },
  {
   "cell_type": "code",
   "execution_count": 8,
   "id": "979b55c8",
   "metadata": {},
   "outputs": [],
   "source": [
    "df[char_col]=oe.fit_transform(df[char_col])"
   ]
  },
  {
   "cell_type": "code",
   "execution_count": 9,
   "id": "0427b2ab",
   "metadata": {},
   "outputs": [
    {
     "data": {
      "text/html": [
       "<div>\n",
       "<style scoped>\n",
       "    .dataframe tbody tr th:only-of-type {\n",
       "        vertical-align: middle;\n",
       "    }\n",
       "\n",
       "    .dataframe tbody tr th {\n",
       "        vertical-align: top;\n",
       "    }\n",
       "\n",
       "    .dataframe thead th {\n",
       "        text-align: right;\n",
       "    }\n",
       "</style>\n",
       "<table border=\"1\" class=\"dataframe\">\n",
       "  <thead>\n",
       "    <tr style=\"text-align: right;\">\n",
       "      <th></th>\n",
       "      <th>Undergrad</th>\n",
       "      <th>Marital_Status</th>\n",
       "      <th>Taxable_Income</th>\n",
       "      <th>City_Population</th>\n",
       "      <th>Work_Experience</th>\n",
       "      <th>Urban</th>\n",
       "    </tr>\n",
       "  </thead>\n",
       "  <tbody>\n",
       "    <tr>\n",
       "      <th>0</th>\n",
       "      <td>0.0</td>\n",
       "      <td>2.0</td>\n",
       "      <td>68833</td>\n",
       "      <td>50047</td>\n",
       "      <td>10</td>\n",
       "      <td>1.0</td>\n",
       "    </tr>\n",
       "    <tr>\n",
       "      <th>1</th>\n",
       "      <td>1.0</td>\n",
       "      <td>0.0</td>\n",
       "      <td>33700</td>\n",
       "      <td>134075</td>\n",
       "      <td>18</td>\n",
       "      <td>1.0</td>\n",
       "    </tr>\n",
       "    <tr>\n",
       "      <th>2</th>\n",
       "      <td>0.0</td>\n",
       "      <td>1.0</td>\n",
       "      <td>36925</td>\n",
       "      <td>160205</td>\n",
       "      <td>30</td>\n",
       "      <td>1.0</td>\n",
       "    </tr>\n",
       "    <tr>\n",
       "      <th>3</th>\n",
       "      <td>1.0</td>\n",
       "      <td>2.0</td>\n",
       "      <td>50190</td>\n",
       "      <td>193264</td>\n",
       "      <td>15</td>\n",
       "      <td>1.0</td>\n",
       "    </tr>\n",
       "    <tr>\n",
       "      <th>4</th>\n",
       "      <td>0.0</td>\n",
       "      <td>1.0</td>\n",
       "      <td>81002</td>\n",
       "      <td>27533</td>\n",
       "      <td>28</td>\n",
       "      <td>0.0</td>\n",
       "    </tr>\n",
       "    <tr>\n",
       "      <th>...</th>\n",
       "      <td>...</td>\n",
       "      <td>...</td>\n",
       "      <td>...</td>\n",
       "      <td>...</td>\n",
       "      <td>...</td>\n",
       "      <td>...</td>\n",
       "    </tr>\n",
       "    <tr>\n",
       "      <th>595</th>\n",
       "      <td>1.0</td>\n",
       "      <td>0.0</td>\n",
       "      <td>76340</td>\n",
       "      <td>39492</td>\n",
       "      <td>7</td>\n",
       "      <td>1.0</td>\n",
       "    </tr>\n",
       "    <tr>\n",
       "      <th>596</th>\n",
       "      <td>1.0</td>\n",
       "      <td>0.0</td>\n",
       "      <td>69967</td>\n",
       "      <td>55369</td>\n",
       "      <td>2</td>\n",
       "      <td>1.0</td>\n",
       "    </tr>\n",
       "    <tr>\n",
       "      <th>597</th>\n",
       "      <td>0.0</td>\n",
       "      <td>0.0</td>\n",
       "      <td>47334</td>\n",
       "      <td>154058</td>\n",
       "      <td>0</td>\n",
       "      <td>1.0</td>\n",
       "    </tr>\n",
       "    <tr>\n",
       "      <th>598</th>\n",
       "      <td>1.0</td>\n",
       "      <td>1.0</td>\n",
       "      <td>98592</td>\n",
       "      <td>180083</td>\n",
       "      <td>17</td>\n",
       "      <td>0.0</td>\n",
       "    </tr>\n",
       "    <tr>\n",
       "      <th>599</th>\n",
       "      <td>0.0</td>\n",
       "      <td>0.0</td>\n",
       "      <td>96519</td>\n",
       "      <td>158137</td>\n",
       "      <td>16</td>\n",
       "      <td>0.0</td>\n",
       "    </tr>\n",
       "  </tbody>\n",
       "</table>\n",
       "<p>600 rows × 6 columns</p>\n",
       "</div>"
      ],
      "text/plain": [
       "     Undergrad  Marital_Status  Taxable_Income  City_Population  \\\n",
       "0          0.0             2.0           68833            50047   \n",
       "1          1.0             0.0           33700           134075   \n",
       "2          0.0             1.0           36925           160205   \n",
       "3          1.0             2.0           50190           193264   \n",
       "4          0.0             1.0           81002            27533   \n",
       "..         ...             ...             ...              ...   \n",
       "595        1.0             0.0           76340            39492   \n",
       "596        1.0             0.0           69967            55369   \n",
       "597        0.0             0.0           47334           154058   \n",
       "598        1.0             1.0           98592           180083   \n",
       "599        0.0             0.0           96519           158137   \n",
       "\n",
       "     Work_Experience  Urban  \n",
       "0                 10    1.0  \n",
       "1                 18    1.0  \n",
       "2                 30    1.0  \n",
       "3                 15    1.0  \n",
       "4                 28    0.0  \n",
       "..               ...    ...  \n",
       "595                7    1.0  \n",
       "596                2    1.0  \n",
       "597                0    1.0  \n",
       "598               17    0.0  \n",
       "599               16    0.0  \n",
       "\n",
       "[600 rows x 6 columns]"
      ]
     },
     "execution_count": 9,
     "metadata": {},
     "output_type": "execute_result"
    }
   ],
   "source": [
    "df"
   ]
  },
  {
   "cell_type": "code",
   "execution_count": 10,
   "id": "5f1450b4",
   "metadata": {},
   "outputs": [
    {
     "data": {
      "text/html": [
       "<div>\n",
       "<style scoped>\n",
       "    .dataframe tbody tr th:only-of-type {\n",
       "        vertical-align: middle;\n",
       "    }\n",
       "\n",
       "    .dataframe tbody tr th {\n",
       "        vertical-align: top;\n",
       "    }\n",
       "\n",
       "    .dataframe thead th {\n",
       "        text-align: right;\n",
       "    }\n",
       "</style>\n",
       "<table border=\"1\" class=\"dataframe\">\n",
       "  <thead>\n",
       "    <tr style=\"text-align: right;\">\n",
       "      <th></th>\n",
       "      <th>Undergrad</th>\n",
       "      <th>Marital_Status</th>\n",
       "      <th>Taxable_Income</th>\n",
       "      <th>City_Population</th>\n",
       "      <th>Work_Experience</th>\n",
       "      <th>Urban</th>\n",
       "    </tr>\n",
       "  </thead>\n",
       "  <tbody>\n",
       "    <tr>\n",
       "      <th>Undergrad</th>\n",
       "      <td>1.000000</td>\n",
       "      <td>0.042407</td>\n",
       "      <td>-0.049232</td>\n",
       "      <td>0.079579</td>\n",
       "      <td>-0.005362</td>\n",
       "      <td>-0.000267</td>\n",
       "    </tr>\n",
       "    <tr>\n",
       "      <th>Marital_Status</th>\n",
       "      <td>0.042407</td>\n",
       "      <td>1.000000</td>\n",
       "      <td>-0.012944</td>\n",
       "      <td>-0.001564</td>\n",
       "      <td>-0.002213</td>\n",
       "      <td>0.064562</td>\n",
       "    </tr>\n",
       "    <tr>\n",
       "      <th>Taxable_Income</th>\n",
       "      <td>-0.049232</td>\n",
       "      <td>-0.012944</td>\n",
       "      <td>1.000000</td>\n",
       "      <td>-0.064387</td>\n",
       "      <td>-0.001818</td>\n",
       "      <td>0.070628</td>\n",
       "    </tr>\n",
       "    <tr>\n",
       "      <th>City_Population</th>\n",
       "      <td>0.079579</td>\n",
       "      <td>-0.001564</td>\n",
       "      <td>-0.064387</td>\n",
       "      <td>1.000000</td>\n",
       "      <td>0.013135</td>\n",
       "      <td>-0.040098</td>\n",
       "    </tr>\n",
       "    <tr>\n",
       "      <th>Work_Experience</th>\n",
       "      <td>-0.005362</td>\n",
       "      <td>-0.002213</td>\n",
       "      <td>-0.001818</td>\n",
       "      <td>0.013135</td>\n",
       "      <td>1.000000</td>\n",
       "      <td>-0.094559</td>\n",
       "    </tr>\n",
       "    <tr>\n",
       "      <th>Urban</th>\n",
       "      <td>-0.000267</td>\n",
       "      <td>0.064562</td>\n",
       "      <td>0.070628</td>\n",
       "      <td>-0.040098</td>\n",
       "      <td>-0.094559</td>\n",
       "      <td>1.000000</td>\n",
       "    </tr>\n",
       "  </tbody>\n",
       "</table>\n",
       "</div>"
      ],
      "text/plain": [
       "                 Undergrad  Marital_Status  Taxable_Income  City_Population  \\\n",
       "Undergrad         1.000000        0.042407       -0.049232         0.079579   \n",
       "Marital_Status    0.042407        1.000000       -0.012944        -0.001564   \n",
       "Taxable_Income   -0.049232       -0.012944        1.000000        -0.064387   \n",
       "City_Population   0.079579       -0.001564       -0.064387         1.000000   \n",
       "Work_Experience  -0.005362       -0.002213       -0.001818         0.013135   \n",
       "Urban            -0.000267        0.064562        0.070628        -0.040098   \n",
       "\n",
       "                 Work_Experience     Urban  \n",
       "Undergrad              -0.005362 -0.000267  \n",
       "Marital_Status         -0.002213  0.064562  \n",
       "Taxable_Income         -0.001818  0.070628  \n",
       "City_Population         0.013135 -0.040098  \n",
       "Work_Experience         1.000000 -0.094559  \n",
       "Urban                  -0.094559  1.000000  "
      ]
     },
     "execution_count": 10,
     "metadata": {},
     "output_type": "execute_result"
    }
   ],
   "source": [
    "df.corr()"
   ]
  },
  {
   "cell_type": "code",
   "execution_count": 11,
   "id": "a3a721e6",
   "metadata": {},
   "outputs": [
    {
     "data": {
      "text/plain": [
       "<AxesSubplot:>"
      ]
     },
     "execution_count": 11,
     "metadata": {},
     "output_type": "execute_result"
    },
    {
     "data": {
      "image/png": "[encoded data removed]",
      "text/plain": [
       "<Figure size 640x480 with 2 Axes>"
      ]
     },
     "metadata": {},
     "output_type": "display_data"
    }
   ],
   "source": [
    "import seaborn as sns\n",
    "sns.heatmap(df.corr(),annot=True)"
   ]
  },
  {
   "cell_type": "code",
   "execution_count": 12,
   "id": "2ccef4aa",
   "metadata": {},
   "outputs": [],
   "source": [
    "#taxable_income <= 30000 as Taxable_Income"
   ]
  },
  {
   "cell_type": "code",
   "execution_count": 13,
   "id": "97d2cca4",
   "metadata": {},
   "outputs": [
    {
     "data": {
      "text/html": [
       "<div>\n",
       "<style scoped>\n",
       "    .dataframe tbody tr th:only-of-type {\n",
       "        vertical-align: middle;\n",
       "    }\n",
       "\n",
       "    .dataframe tbody tr th {\n",
       "        vertical-align: top;\n",
       "    }\n",
       "\n",
       "    .dataframe thead th {\n",
       "        text-align: right;\n",
       "    }\n",
       "</style>\n",
       "<table border=\"1\" class=\"dataframe\">\n",
       "  <thead>\n",
       "    <tr style=\"text-align: right;\">\n",
       "      <th></th>\n",
       "      <th>Undergrad</th>\n",
       "      <th>Marital_Status</th>\n",
       "      <th>City_Population</th>\n",
       "      <th>Work_Experience</th>\n",
       "      <th>Urban</th>\n",
       "      <th>tax_income</th>\n",
       "    </tr>\n",
       "  </thead>\n",
       "  <tbody>\n",
       "    <tr>\n",
       "      <th>0</th>\n",
       "      <td>0.0</td>\n",
       "      <td>2.0</td>\n",
       "      <td>50047</td>\n",
       "      <td>10</td>\n",
       "      <td>1.0</td>\n",
       "      <td>Good</td>\n",
       "    </tr>\n",
       "    <tr>\n",
       "      <th>1</th>\n",
       "      <td>1.0</td>\n",
       "      <td>0.0</td>\n",
       "      <td>134075</td>\n",
       "      <td>18</td>\n",
       "      <td>1.0</td>\n",
       "      <td>Good</td>\n",
       "    </tr>\n",
       "    <tr>\n",
       "      <th>2</th>\n",
       "      <td>0.0</td>\n",
       "      <td>1.0</td>\n",
       "      <td>160205</td>\n",
       "      <td>30</td>\n",
       "      <td>1.0</td>\n",
       "      <td>Good</td>\n",
       "    </tr>\n",
       "    <tr>\n",
       "      <th>3</th>\n",
       "      <td>1.0</td>\n",
       "      <td>2.0</td>\n",
       "      <td>193264</td>\n",
       "      <td>15</td>\n",
       "      <td>1.0</td>\n",
       "      <td>Good</td>\n",
       "    </tr>\n",
       "    <tr>\n",
       "      <th>4</th>\n",
       "      <td>0.0</td>\n",
       "      <td>1.0</td>\n",
       "      <td>27533</td>\n",
       "      <td>28</td>\n",
       "      <td>0.0</td>\n",
       "      <td>Good</td>\n",
       "    </tr>\n",
       "    <tr>\n",
       "      <th>...</th>\n",
       "      <td>...</td>\n",
       "      <td>...</td>\n",
       "      <td>...</td>\n",
       "      <td>...</td>\n",
       "      <td>...</td>\n",
       "      <td>...</td>\n",
       "    </tr>\n",
       "    <tr>\n",
       "      <th>595</th>\n",
       "      <td>1.0</td>\n",
       "      <td>0.0</td>\n",
       "      <td>39492</td>\n",
       "      <td>7</td>\n",
       "      <td>1.0</td>\n",
       "      <td>Good</td>\n",
       "    </tr>\n",
       "    <tr>\n",
       "      <th>596</th>\n",
       "      <td>1.0</td>\n",
       "      <td>0.0</td>\n",
       "      <td>55369</td>\n",
       "      <td>2</td>\n",
       "      <td>1.0</td>\n",
       "      <td>Good</td>\n",
       "    </tr>\n",
       "    <tr>\n",
       "      <th>597</th>\n",
       "      <td>0.0</td>\n",
       "      <td>0.0</td>\n",
       "      <td>154058</td>\n",
       "      <td>0</td>\n",
       "      <td>1.0</td>\n",
       "      <td>Good</td>\n",
       "    </tr>\n",
       "    <tr>\n",
       "      <th>598</th>\n",
       "      <td>1.0</td>\n",
       "      <td>1.0</td>\n",
       "      <td>180083</td>\n",
       "      <td>17</td>\n",
       "      <td>0.0</td>\n",
       "      <td>Good</td>\n",
       "    </tr>\n",
       "    <tr>\n",
       "      <th>599</th>\n",
       "      <td>0.0</td>\n",
       "      <td>0.0</td>\n",
       "      <td>158137</td>\n",
       "      <td>16</td>\n",
       "      <td>0.0</td>\n",
       "      <td>Good</td>\n",
       "    </tr>\n",
       "  </tbody>\n",
       "</table>\n",
       "<p>600 rows × 6 columns</p>\n",
       "</div>"
      ],
      "text/plain": [
       "     Undergrad  Marital_Status  City_Population  Work_Experience  Urban  \\\n",
       "0          0.0             2.0            50047               10    1.0   \n",
       "1          1.0             0.0           134075               18    1.0   \n",
       "2          0.0             1.0           160205               30    1.0   \n",
       "3          1.0             2.0           193264               15    1.0   \n",
       "4          0.0             1.0            27533               28    0.0   \n",
       "..         ...             ...              ...              ...    ...   \n",
       "595        1.0             0.0            39492                7    1.0   \n",
       "596        1.0             0.0            55369                2    1.0   \n",
       "597        0.0             0.0           154058                0    1.0   \n",
       "598        1.0             1.0           180083               17    0.0   \n",
       "599        0.0             0.0           158137               16    0.0   \n",
       "\n",
       "    tax_income  \n",
       "0         Good  \n",
       "1         Good  \n",
       "2         Good  \n",
       "3         Good  \n",
       "4         Good  \n",
       "..         ...  \n",
       "595       Good  \n",
       "596       Good  \n",
       "597       Good  \n",
       "598       Good  \n",
       "599       Good  \n",
       "\n",
       "[600 rows x 6 columns]"
      ]
     },
     "execution_count": 13,
     "metadata": {},
     "output_type": "execute_result"
    }
   ],
   "source": [
    "df['tax_income']=\"Good\"\n",
    "df.loc[df['Taxable_Income']<=30000,'tax_income']='Risky'\n",
    "df.drop(columns='Taxable_Income',inplace=True)\n",
    "df"
   ]
  },
  {
   "cell_type": "code",
   "execution_count": 14,
   "id": "bcddb516",
   "metadata": {},
   "outputs": [],
   "source": [
    "# Target = []\n",
    "# for x1 in df['Taxable.Income']:\n",
    "#     if x1 <= 30000:\n",
    "#         Target.append(\"Risky\")\n",
    "#     else:\n",
    "#         Target.append('Good')\n",
    "# df['Target'] = Target\n",
    "# df"
   ]
  },
  {
   "cell_type": "code",
   "execution_count": 15,
   "id": "9eaa6f20",
   "metadata": {},
   "outputs": [],
   "source": [
    "from sklearn.model_selection import train_test_split"
   ]
  },
  {
   "cell_type": "code",
   "execution_count": 16,
   "id": "d922c815",
   "metadata": {},
   "outputs": [],
   "source": [
    "x=df.iloc[:,0:5]\n",
    "y=df['tax_income']"
   ]
  },
  {
   "cell_type": "code",
   "execution_count": 17,
   "id": "8539da67",
   "metadata": {},
   "outputs": [],
   "source": [
    "xtrain,xtest,ytrain,ytest=train_test_split(x,y,test_size=0.30,random_state=2)"
   ]
  },
  {
   "cell_type": "code",
   "execution_count": 18,
   "id": "a9a17245",
   "metadata": {},
   "outputs": [],
   "source": [
    "from sklearn.metrics import classification_report,confusion_matrix\n",
    "from sklearn.tree import  DecisionTreeClassifier"
   ]
  },
  {
   "cell_type": "code",
   "execution_count": 19,
   "id": "386fbf96",
   "metadata": {},
   "outputs": [
    {
     "name": "stdout",
     "output_type": "stream",
     "text": [
      "              precision    recall  f1-score   support\n",
      "\n",
      "        Good       0.78      0.78      0.78       142\n",
      "       Risky       0.16      0.16      0.16        38\n",
      "\n",
      "    accuracy                           0.65       180\n",
      "   macro avg       0.47      0.47      0.47       180\n",
      "weighted avg       0.65      0.65      0.65       180\n",
      "\n"
     ]
    }
   ],
   "source": [
    "dt=DecisionTreeClassifier()\n",
    "dt.fit(xtrain,ytrain)\n",
    "ypred=dt.predict(xtest)\n",
    "print(classification_report(ytest,ypred))"
   ]
  },
  {
   "cell_type": "code",
   "execution_count": 20,
   "id": "92877593",
   "metadata": {},
   "outputs": [
    {
     "data": {
      "text/plain": [
       "array([[111,  31],\n",
       "       [ 32,   6]], dtype=int64)"
      ]
     },
     "execution_count": 20,
     "metadata": {},
     "output_type": "execute_result"
    }
   ],
   "source": [
    "confusion_matrix(ytest,ypred)"
   ]
  },
  {
   "cell_type": "code",
   "execution_count": 21,
   "id": "05f91ddd",
   "metadata": {},
   "outputs": [
    {
     "data": {
      "text/plain": [
       "(1.0, 0.65)"
      ]
     },
     "execution_count": 21,
     "metadata": {},
     "output_type": "execute_result"
    }
   ],
   "source": [
    "dt.score(xtrain,ytrain),dt.score(xtest,ytest)"
   ]
  },
  {
   "cell_type": "markdown",
   "id": "019f7954",
   "metadata": {},
   "source": [
    "# Hyperparameter Tunning"
   ]
  },
  {
   "cell_type": "code",
   "execution_count": 22,
   "id": "9b6800fb",
   "metadata": {},
   "outputs": [],
   "source": [
    "params={\n",
    "    'criterion':[\"gini\", \"entropy\"],\n",
    "    'splitter':[\"best\", \"random\"],\n",
    "    'max_depth':[2,4,6,7,9,12,14]\n",
    "    \n",
    "}"
   ]
  },
  {
   "cell_type": "code",
   "execution_count": 23,
   "id": "aa853406",
   "metadata": {},
   "outputs": [],
   "source": [
    "from sklearn.model_selection import GridSearchCV"
   ]
  },
  {
   "cell_type": "code",
   "execution_count": 24,
   "id": "15764c55",
   "metadata": {},
   "outputs": [],
   "source": [
    "grid=GridSearchCV(DecisionTreeClassifier(),param_grid=params,verbose=-1,cv=5)"
   ]
  },
  {
   "cell_type": "code",
   "execution_count": 25,
   "id": "bdacc19e",
   "metadata": {},
   "outputs": [
    {
     "data": {
      "text/plain": [
       "GridSearchCV(cv=5, estimator=DecisionTreeClassifier(),\n",
       "             param_grid={'criterion': ['gini', 'entropy'],\n",
       "                         'max_depth': [2, 4, 6, 7, 9, 12, 14],\n",
       "                         'splitter': ['best', 'random']},\n",
       "             verbose=-1)"
      ]
     },
     "execution_count": 25,
     "metadata": {},
     "output_type": "execute_result"
    }
   ],
   "source": [
    "grid.fit(xtrain,ytrain)"
   ]
  },
  {
   "cell_type": "code",
   "execution_count": 26,
   "id": "01236e7f",
   "metadata": {},
   "outputs": [
    {
     "data": {
      "text/plain": [
       "{'criterion': 'gini', 'max_depth': 2, 'splitter': 'random'}"
      ]
     },
     "execution_count": 26,
     "metadata": {},
     "output_type": "execute_result"
    }
   ],
   "source": [
    "grid.best_params_"
   ]
  },
  {
   "cell_type": "code",
   "execution_count": 27,
   "id": "1aac78e4",
   "metadata": {},
   "outputs": [
    {
     "name": "stdout",
     "output_type": "stream",
     "text": [
      "              precision    recall  f1-score   support\n",
      "\n",
      "        Good       0.79      1.00      0.88       142\n",
      "       Risky       0.00      0.00      0.00        38\n",
      "\n",
      "    accuracy                           0.79       180\n",
      "   macro avg       0.39      0.50      0.44       180\n",
      "weighted avg       0.62      0.79      0.70       180\n",
      "\n"
     ]
    }
   ],
   "source": [
    "dt=DecisionTreeClassifier(criterion='gini',splitter='random',max_depth=2)\n",
    "dt.fit(xtrain,ytrain)\n",
    "ypred=dt.predict(xtest)\n",
    "print(classification_report(ytest,ypred))"
   ]
  },
  {
   "cell_type": "code",
   "execution_count": 28,
   "id": "b99bec4b",
   "metadata": {},
   "outputs": [
    {
     "data": {
      "text/plain": [
       "(0.7952380952380952, 0.7888888888888889)"
      ]
     },
     "execution_count": 28,
     "metadata": {},
     "output_type": "execute_result"
    }
   ],
   "source": [
    "dt.score(xtrain,ytrain),dt.score(xtest,ytest)"
   ]
  },
  {
   "cell_type": "code",
   "execution_count": 29,
   "id": "383222a0",
   "metadata": {},
   "outputs": [],
   "source": [
    "from sklearn import tree"
   ]
  },
  {
   "cell_type": "code",
   "execution_count": 30,
   "id": "994a27d3",
   "metadata": {},
   "outputs": [
    {
     "data": {
      "text/plain": [
       "[Text(0.5, 0.8333333333333334, 'Undergrad <= 0.676\\ngini = 0.326\\nsamples = 420\\nvalue = [334, 86]\\nclass = Good'),\n",
       " Text(0.25, 0.5, 'Work_Experience <= 26.78\\ngini = 0.288\\nsamples = 206\\nvalue = [170, 36]\\nclass = Good'),\n",
       " Text(0.125, 0.16666666666666666, 'gini = 0.262\\nsamples = 174\\nvalue = [147, 27]\\nclass = Good'),\n",
       " Text(0.375, 0.16666666666666666, 'gini = 0.404\\nsamples = 32\\nvalue = [23, 9]\\nclass = Good'),\n",
       " Text(0.75, 0.5, 'Marital_Status <= 1.496\\ngini = 0.358\\nsamples = 214\\nvalue = [164, 50]\\nclass = Good'),\n",
       " Text(0.625, 0.16666666666666666, 'gini = 0.377\\nsamples = 139\\nvalue = [104, 35]\\nclass = Good'),\n",
       " Text(0.875, 0.16666666666666666, 'gini = 0.32\\nsamples = 75\\nvalue = [60, 15]\\nclass = Good')]"
      ]
     },
     "execution_count": 30,
     "metadata": {},
     "output_type": "execute_result"
    },
    {
     "data": {
      "image/png": "[encoded data removed]",
      "text/plain": [
       "<Figure size 640x480 with 1 Axes>"
      ]
     },
     "metadata": {},
     "output_type": "display_data"
    }
   ],
   "source": [
    "tree.plot_tree(dt, feature_names=x.columns,class_names=df['tax_income'].unique(),filled=True)"
   ]
  },
  {
   "cell_type": "code",
   "execution_count": 31,
   "id": "7c1c8e8a",
   "metadata": {},
   "outputs": [
    {
     "data": {
      "text/plain": [
       "array([0.39377811, 0.14140676, 0.        , 0.46481513, 0.        ])"
      ]
     },
     "execution_count": 31,
     "metadata": {},
     "output_type": "execute_result"
    }
   ],
   "source": [
    "dt.feature_importances_"
   ]
  },
  {
   "cell_type": "code",
   "execution_count": 32,
   "id": "28f1feaf",
   "metadata": {},
   "outputs": [
    {
     "data": {
      "text/html": [
       "<div>\n",
       "<style scoped>\n",
       "    .dataframe tbody tr th:only-of-type {\n",
       "        vertical-align: middle;\n",
       "    }\n",
       "\n",
       "    .dataframe tbody tr th {\n",
       "        vertical-align: top;\n",
       "    }\n",
       "\n",
       "    .dataframe thead th {\n",
       "        text-align: right;\n",
       "    }\n",
       "</style>\n",
       "<table border=\"1\" class=\"dataframe\">\n",
       "  <thead>\n",
       "    <tr style=\"text-align: right;\">\n",
       "      <th></th>\n",
       "      <th>feature</th>\n",
       "      <th>IG</th>\n",
       "    </tr>\n",
       "  </thead>\n",
       "  <tbody>\n",
       "    <tr>\n",
       "      <th>3</th>\n",
       "      <td>Work_Experience</td>\n",
       "      <td>0.464815</td>\n",
       "    </tr>\n",
       "    <tr>\n",
       "      <th>0</th>\n",
       "      <td>Undergrad</td>\n",
       "      <td>0.393778</td>\n",
       "    </tr>\n",
       "    <tr>\n",
       "      <th>1</th>\n",
       "      <td>Marital_Status</td>\n",
       "      <td>0.141407</td>\n",
       "    </tr>\n",
       "    <tr>\n",
       "      <th>2</th>\n",
       "      <td>City_Population</td>\n",
       "      <td>0.000000</td>\n",
       "    </tr>\n",
       "    <tr>\n",
       "      <th>4</th>\n",
       "      <td>Urban</td>\n",
       "      <td>0.000000</td>\n",
       "    </tr>\n",
       "  </tbody>\n",
       "</table>\n",
       "</div>"
      ],
      "text/plain": [
       "           feature        IG\n",
       "3  Work_Experience  0.464815\n",
       "0        Undergrad  0.393778\n",
       "1   Marital_Status  0.141407\n",
       "2  City_Population  0.000000\n",
       "4            Urban  0.000000"
      ]
     },
     "execution_count": 32,
     "metadata": {},
     "output_type": "execute_result"
    }
   ],
   "source": [
    "pd.DataFrame({\n",
    "    'feature':x.columns,\n",
    "    'IG':dt.feature_importances_\n",
    "}).sort_values('IG',ascending=False)"
   ]
  },
  {
   "cell_type": "code",
   "execution_count": null,
   "id": "a36f01ce",
   "metadata": {},
   "outputs": [],
   "source": []
  }
 ],
 "metadata": {
  "kernelspec": {
   "display_name": "Python 3 (ipykernel)",
   "language": "python",
   "name": "python3"
  },
  "language_info": {
   "codemirror_mode": {
    "name": "ipython",
    "version": 3
   },
   "file_extension": ".py",
   "mimetype": "text/x-python",
   "name": "python",
   "nbconvert_exporter": "python",
   "pygments_lexer": "ipython3",
   "version": "3.9.13"
  }
 },
 "nbformat": 4,
 "nbformat_minor": 5
}
